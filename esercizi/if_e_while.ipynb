{
  "cells": [
    {
      "cell_type": "markdown",
      "metadata": {
        "id": "HB3XbPDcSqe1"
      },
      "source": [
        "# Esercizi IF"
      ]
    },
    {
      "cell_type": "code",
      "execution_count": 1,
      "metadata": {
        "id": "0U7L9A29RfeT"
      },
      "outputs": [
        {
          "name": "stdout",
          "output_type": "stream",
          "text": [
            "numero dispari\n"
          ]
        }
      ],
      "source": [
        "# Es 4.1: Ottenere dall'utente un numero in input e scrivere a schermo \"Pari\" se il numero è pari, scrivere \"Dispari\" altrimenti\n",
        "x = int(input(\"dimmi un numero\"))   \n",
        "if x % 2 == 0 :\n",
        "    print (\"numero pari\")\n",
        "else :\n",
        "    print(\"numero dispari\")\n"
      ]
    },
    {
      "cell_type": "code",
      "execution_count": 36,
      "metadata": {
        "id": "gE3RVr9ORuwP"
      },
      "outputs": [
        {
          "name": "stdout",
          "output_type": "stream",
          "text": [
            "non è un triangolo\n"
          ]
        }
      ],
      "source": [
        "# Es 4.2: Ottenere dall'utente tre angoli caso siano i tre angoli di un triangolo scrivere a schermo \"È un triangolo\", \n",
        "# altrimenti \"Non è un triangolo\"\n",
        "x = int(input(\"dimmi angolo 1\")) \n",
        "y = int(input(\"dimmi angolo 2\")) \n",
        "z = int(input(\"dimmi angolo 3\")) \n",
        "if x + y + z == 180 :\n",
        "    print (\"è un triangolo\")\n",
        "else :\n",
        "    print (\"non è un triangolo\")"
      ]
    },
    {
      "cell_type": "code",
      "execution_count": 37,
      "metadata": {
        "id": "r1A_DavcSKgi"
      },
      "outputs": [
        {
          "name": "stdout",
          "output_type": "stream",
          "text": [
            "è un triangolo rettangolo\n"
          ]
        }
      ],
      "source": [
        "# Es 4.3: Ottenuti dall'utente tre angoli di un triangolo scrivere a schermo se i tre angoli descrivono un \n",
        "# triangolo rettangolo o no\n",
        "x = int(input(\"dimmi angolo 1\")) \n",
        "y = int(input(\"dimmi angolo 2\")) \n",
        "z = int(input(\"dimmi angolo 3\")) \n",
        "if x + y + z != 180 :\n",
        "    print(\"non è un triangolo\")\n",
        "else :\n",
        "    if x == 90 or y == 90 or z == 90 :\n",
        "        print(\"è un triangolo rettangolo\")\n",
        "    else :\n",
        "        print(\"è un triangolo ma non è rettangolo\")"
      ]
    },
    {
      "cell_type": "code",
      "execution_count": 38,
      "metadata": {
        "id": "iA9D4X_GSims"
      },
      "outputs": [
        {
          "name": "stdout",
          "output_type": "stream",
          "text": [
            "è un triangolo equilatero\n"
          ]
        }
      ],
      "source": [
        "# Es 4.4: Ottenuti dall'utente tre angoli di un tringolo scrivere a schermo se i tre angoli descrivono un triangolo equilatero o no\n",
        "x = int(input(\"dimmi angolo 1\")) \n",
        "y = int(input(\"dimmi angolo 2\")) \n",
        "z = int(input(\"dimmi angolo 3\")) \n",
        "if x + y + z != 180 :\n",
        "    print(\"non è un triangolo\")\n",
        "else :\n",
        "    if x == 60 and y == 60 and z == 60 :\n",
        "        print(\"è un triangolo equilatero\")\n",
        "    else :\n",
        "        print(\"è un triangolo ma non è equilatero\")"
      ]
    },
    {
      "cell_type": "code",
      "execution_count": 39,
      "metadata": {
        "id": "8q4gadoTSU7J"
      },
      "outputs": [
        {
          "name": "stdout",
          "output_type": "stream",
          "text": [
            "è un triangolo isoscele\n"
          ]
        }
      ],
      "source": [
        "# Es 4.5: Ottenuti dall'utente tre angoli di un tringolo scrivere a schermo se i tre angoli descrivono un triangolo isocele o no\n",
        "x = int(input(\"dimmi angolo 1\")) \n",
        "y = int(input(\"dimmi angolo 2\")) \n",
        "z = int(input(\"dimmi angolo 3\")) \n",
        "if x + y + z != 180 :\n",
        "    print(\"non è un triangolo\")\n",
        "else :\n",
        "    if x == y or y == z or z == x :\n",
        "        print(\"è un triangolo isoscele\")\n",
        "    else :\n",
        "        print(\"è un triangolo ma non è isoscele\")"
      ]
    },
    {
      "cell_type": "code",
      "execution_count": 40,
      "metadata": {
        "id": "yVIE2kK3SYlq"
      },
      "outputs": [
        {
          "name": "stdout",
          "output_type": "stream",
          "text": [
            "è un triangolo isoscele - rettangolo\n"
          ]
        }
      ],
      "source": [
        "# Es 4.6: Ottenuti dall'utente tre angoli di un tringolo scrivere a schermo se i tre angoli descrivono un triangolo isocele, rettagolo,\n",
        "# equilatero o scaleno \n",
        "x = int(input(\"dimmi angolo 1\")) \n",
        "y = int(input(\"dimmi angolo 2\")) \n",
        "z = int(input(\"dimmi angolo 3\")) \n",
        "if x + y + z != 180 :\n",
        "    print(\"non è un triangolo\")\n",
        "else :\n",
        "    if x == 60 and y == 60 and z==60 :\n",
        "        print (\"è un triangolo equilatero\")\n",
        "    else :\n",
        "        if x == y or y == z or z == x :\n",
        "# divido i casi in cui un triangolo può essere rettangolo : isoscele - rettangolo e scaleno - rettangolo\n",
        "            if x == 90 or y == 90 or z == 90 : # 1°caso rettangolo\n",
        "                print(\"è un triangolo isoscele - rettangolo\")\n",
        "            else :\n",
        "                print(\"è un triangolo isoscele\")\n",
        "        else :\n",
        "            if x == 90 or y == 90 or z == 90 : # 2°caso rettangolo\n",
        "                print(\"è un triangolo scaleno - rettangolo\")\n",
        "            else :\n",
        "                print(\"è un triangolo scaleno\")"
      ]
    },
    {
      "cell_type": "markdown",
      "metadata": {
        "id": "ef5snVxLqeQh"
      },
      "source": [
        "# Esercizi WHILE\n"
      ]
    },
    {
      "cell_type": "code",
      "execution_count": 41,
      "metadata": {
        "id": "j61RqiHxqdmh"
      },
      "outputs": [
        {
          "name": "stdout",
          "output_type": "stream",
          "text": [
            "ciao\n",
            "ciao\n",
            "ciao\n",
            "ciao\n",
            "ciao\n",
            "ciao\n"
          ]
        }
      ],
      "source": [
        "# Es 4.7: Creare una funzione print_n(n,v) che stampi n volte il contenuto di v\n",
        "def stampa_n(n,v) :\n",
        "    while n > 0 :\n",
        "        print(v)\n",
        "        n -= 1\n",
        "\n",
        "\n",
        "v = input(\"Inserisci cosa desideri stampare: \")\n",
        "n = int(input(\"Inserisci il numero di volte che desideri stampare v: \"))\n",
        "\n",
        "stampa_n(n,v)"
      ]
    },
    {
      "cell_type": "code",
      "execution_count": null,
      "metadata": {
        "colab": {
          "base_uri": "https://localhost:8080/"
        },
        "id": "-6lAm-hfq9w9",
        "outputId": "399e82ba-3cfe-475f-f8df-0e156677ec75"
      },
      "outputs": [],
      "source": [
        "# Es 4.8: Inserito il numero n dire per quali numeri, compresi tra 1 e n, è divisibile.\n",
        "# Inserisco 10: stampo 1,2,5\n",
        "# Inserisco 7: stampo 1\n",
        "n = int(input(\"inserisci un numero\"))\n",
        "i = 1\n",
        "while i <= n :\n",
        "    if n % i == 0 :\n",
        "        print(i)\n",
        "    i += 1\n"
      ]
    },
    {
      "cell_type": "code",
      "execution_count": null,
      "metadata": {
        "colab": {
          "base_uri": "https://localhost:8080/"
        },
        "id": "GjC4LdR7rP-b",
        "outputId": "9f539b4d-c307-479a-da13-610a7e1cc46e"
      },
      "outputs": [
        {
          "name": "stdout",
          "output_type": "stream",
          "text": [
            "il numero non è primo\n"
          ]
        }
      ],
      "source": [
        "# Es 4.9: Inserito il numero n dire se è primo o no\n",
        "n = int(input(\"inserisci un numero\"))\n",
        "primo = True\n",
        "i = 1\n",
        "while i < n :\n",
        "    if n % 2 == 0 :\n",
        "        primo = False\n",
        "        break\n",
        "    i += 1\n",
        "\n",
        "if primo and n > 1 :\n",
        "    print(\"il numero è primo\")\n",
        "else :\n",
        "    print(\"il numero non è primo\")\n",
        "\n",
        "\n"
      ]
    },
    {
      "cell_type": "code",
      "execution_count": 49,
      "metadata": {
        "colab": {
          "base_uri": "https://localhost:8080/"
        },
        "id": "CxtWnOdHsTv4",
        "outputId": "5d874410-cb07-46a2-9c22-83d541b7a91a"
      },
      "outputs": [
        {
          "ename": "ValueError",
          "evalue": "invalid literal for int() with base 10: ''",
          "output_type": "error",
          "traceback": [
            "\u001b[0;31m---------------------------------------------------------------------------\u001b[0m",
            "\u001b[0;31mValueError\u001b[0m                                Traceback (most recent call last)",
            "\u001b[1;32m/workspaces/teach-py/esercizi/if_e_while.ipynb Cella 12\u001b[0m line \u001b[0;36m1\n\u001b[1;32m     <a href='vscode-notebook-cell://codespaces%2Bcuddly-spork-69gj767x5v99259r5/workspaces/teach-py/esercizi/if_e_while.ipynb#X14sdnNjb2RlLXJlbW90ZQ%3D%3D?line=11'>12</a>\u001b[0m     \u001b[39mprint\u001b[39m(\u001b[39m\"\u001b[39m\u001b[39mprodotto =\u001b[39m\u001b[39m\"\u001b[39m, risultato)\n\u001b[1;32m     <a href='vscode-notebook-cell://codespaces%2Bcuddly-spork-69gj767x5v99259r5/workspaces/teach-py/esercizi/if_e_while.ipynb#X14sdnNjb2RlLXJlbW90ZQ%3D%3D?line=14'>15</a>\u001b[0m a \u001b[39m=\u001b[39m \u001b[39mint\u001b[39m(\u001b[39minput\u001b[39m(\u001b[39m\"\u001b[39m\u001b[39minserisci il primo numero\u001b[39m\u001b[39m\"\u001b[39m))\n\u001b[0;32m---> <a href='vscode-notebook-cell://codespaces%2Bcuddly-spork-69gj767x5v99259r5/workspaces/teach-py/esercizi/if_e_while.ipynb#X14sdnNjb2RlLXJlbW90ZQ%3D%3D?line=15'>16</a>\u001b[0m b \u001b[39m=\u001b[39m \u001b[39mint\u001b[39;49m(\u001b[39minput\u001b[39;49m(\u001b[39m\"\u001b[39;49m\u001b[39minserisci il secondo numero\u001b[39;49m\u001b[39m\"\u001b[39;49m))\n\u001b[1;32m     <a href='vscode-notebook-cell://codespaces%2Bcuddly-spork-69gj767x5v99259r5/workspaces/teach-py/esercizi/if_e_while.ipynb#X14sdnNjb2RlLXJlbW90ZQ%3D%3D?line=16'>17</a>\u001b[0m moltiplica(a,b)\n",
            "\u001b[0;31mValueError\u001b[0m: invalid literal for int() with base 10: ''"
          ]
        }
      ],
      "source": [
        "# Es 4.10: Creare la funzione moltiplica che restituisce il prodotto tra \n",
        "# due numeri senza utilizzare *\n",
        "# 3*4 è uguale a 4+4+4\n",
        "def moltiplica(a,b) :\n",
        "    risultato = 0\n",
        "    if b < 0 :\n",
        "        a = -a\n",
        "        b = -b\n",
        "    while b > 0 :\n",
        "        risultato += a\n",
        "        b -= 1\n",
        "    print(\"prodotto =\", risultato)\n",
        "    \n",
        "\n",
        "a = int(input(\"inserisci il primo numero\"))\n",
        "b = int(input(\"inserisci il secondo numero\"))\n",
        "moltiplica(a,b)"
      ]
    }
  ],
  "metadata": {
    "colab": {
      "provenance": []
    },
    "kernelspec": {
      "display_name": "Python 3",
      "name": "python3"
    },
    "language_info": {
      "codemirror_mode": {
        "name": "ipython",
        "version": 3
      },
      "file_extension": ".py",
      "mimetype": "text/x-python",
      "name": "python",
      "nbconvert_exporter": "python",
      "pygments_lexer": "ipython3",
      "version": "3.10.8"
    }
  },
  "nbformat": 4,
  "nbformat_minor": 0
}
