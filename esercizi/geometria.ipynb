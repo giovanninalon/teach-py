{
  "cells": [
    {
      "cell_type": "markdown",
      "metadata": {
        "id": "HB3XbPDcSqe1"
      },
      "source": [
        "# Esercizi Geometrici"
      ]
    },
    {
      "cell_type": "markdown",
      "metadata": {
        "id": "LCcywn6v2KxD"
      },
      "source": [
        "In Python per stampare consecutivamente più parole senza creare una riga per ognuna bisogna usare il seguente codice:\n"
      ]
    },
    {
      "cell_type": "code",
      "execution_count": null,
      "metadata": {
        "colab": {
          "base_uri": "https://localhost:8080/"
        },
        "id": "PHdyo8E42sza",
        "outputId": "fb51a75d-54ef-48c3-f6ad-342834d2738b"
      },
      "outputs": [
        {
          "name": "stdout",
          "output_type": "stream",
          "text": [
            "Parola 1 Parola 2.\n",
            "Parola 3\n"
          ]
        }
      ],
      "source": [
        "print(\"Parola 1\", end=\" \")\n",
        "print(\"Parola 2\", end=\".\\n\")\n",
        "print(\"Parola 3\")"
      ]
    },
    {
      "cell_type": "code",
      "execution_count": 16,
      "metadata": {
        "colab": {
          "base_uri": "https://localhost:8080/"
        },
        "id": "0U7L9A29RfeT",
        "outputId": "ccdd9b72-55df-486a-a68d-cfe73e90461d"
      },
      "outputs": [
        {
          "name": "stdout",
          "output_type": "stream",
          "text": [
            "* * * * \n",
            "* * * * \n",
            "* * * * \n",
            "* * * * \n"
          ]
        }
      ],
      "source": [
        "# Es 6.1: Scrivi la funzione quadrato(n) che stampi a schermo un quadrato di lato nxn formato utilizzando il carattere *\n",
        "#         Esempio:    3 ->  * * *       4 ->  * * * *\n",
        "#                           * * *             * * * *\n",
        "#                           * * *             * * * *\n",
        "#                                             * * * *\n",
        "def quadrato(n) :\n",
        "    for i in range(n):\n",
        "        print(\"* \" * n) #moltiplico string n volte\n",
        "\n",
        "lato = int(input(\"inserisci il lato del quadrato: \"))\n",
        "if lato > 0 :\n",
        "    quadrato(lato)\n",
        "else :\n",
        "    lato = - lato # valore assoluto del lato\n",
        "    quadrato(lato)"
      ]
    },
    {
      "cell_type": "code",
      "execution_count": 17,
      "metadata": {
        "id": "gE3RVr9ORuwP"
      },
      "outputs": [
        {
          "ename": "ValueError",
          "evalue": "invalid literal for int() with base 10: ''",
          "output_type": "error",
          "traceback": [
            "\u001b[0;31m---------------------------------------------------------------------------\u001b[0m",
            "\u001b[0;31mValueError\u001b[0m                                Traceback (most recent call last)",
            "\u001b[1;32m/workspaces/teach-py/esercizi/geometria.ipynb Cella 5\u001b[0m line \u001b[0;36m1\n\u001b[1;32m      <a href='vscode-notebook-cell://codespaces%2Bcuddly-spork-69gj767x5v99259r5/workspaces/teach-py/esercizi/geometria.ipynb#W4sdnNjb2RlLXJlbW90ZQ%3D%3D?line=6'>7</a>\u001b[0m     \u001b[39mfor\u001b[39;00m i \u001b[39min\u001b[39;00m \u001b[39mrange\u001b[39m(n) :\n\u001b[1;32m      <a href='vscode-notebook-cell://codespaces%2Bcuddly-spork-69gj767x5v99259r5/workspaces/teach-py/esercizi/geometria.ipynb#W4sdnNjb2RlLXJlbW90ZQ%3D%3D?line=7'>8</a>\u001b[0m         \u001b[39mprint\u001b[39m(\u001b[39m\"\u001b[39m\u001b[39m* \u001b[39m\u001b[39m\"\u001b[39m \u001b[39m*\u001b[39m (\u001b[39m2\u001b[39m \u001b[39m*\u001b[39m n))\n\u001b[0;32m---> <a href='vscode-notebook-cell://codespaces%2Bcuddly-spork-69gj767x5v99259r5/workspaces/teach-py/esercizi/geometria.ipynb#W4sdnNjb2RlLXJlbW90ZQ%3D%3D?line=9'>10</a>\u001b[0m lato \u001b[39m=\u001b[39m \u001b[39mint\u001b[39;49m(\u001b[39minput\u001b[39;49m(\u001b[39m\"\u001b[39;49m\u001b[39minserisci il lato del rettangolo: \u001b[39;49m\u001b[39m\"\u001b[39;49m))\n\u001b[1;32m     <a href='vscode-notebook-cell://codespaces%2Bcuddly-spork-69gj767x5v99259r5/workspaces/teach-py/esercizi/geometria.ipynb#W4sdnNjb2RlLXJlbW90ZQ%3D%3D?line=10'>11</a>\u001b[0m \u001b[39mif\u001b[39;00m lato \u001b[39m>\u001b[39m \u001b[39m0\u001b[39m :\n\u001b[1;32m     <a href='vscode-notebook-cell://codespaces%2Bcuddly-spork-69gj767x5v99259r5/workspaces/teach-py/esercizi/geometria.ipynb#W4sdnNjb2RlLXJlbW90ZQ%3D%3D?line=11'>12</a>\u001b[0m     rettangolo(lato)\n",
            "\u001b[0;31mValueError\u001b[0m: invalid literal for int() with base 10: ''"
          ]
        }
      ],
      "source": [
        "# Es 6.2: Scrivi la funzione rettangolo(n) che stampi a schermo un rettangolo di lato nx2n formato utilizzando il carattere *\n",
        "#         Esempio:    3 ->  * * * * * *         4 ->  * * * * * * * *\n",
        "#                           * * * * * *               * * * * * * * *\n",
        "#                           * * * * * *               * * * * * * * *\n",
        "#                                                     * * * * * * * *\n",
        "def rettangolo(n) :\n",
        "    for i in range(n) :\n",
        "        print(\"* \" * (2 * n))\n",
        "\n",
        "lato = int(input(\"inserisci il lato del rettangolo: \"))\n",
        "if lato > 0 :\n",
        "    rettangolo(lato)\n",
        "else :\n",
        "    lato = - lato # valore assoluto del lato\n",
        "    rettangolo(lato)\n"
      ]
    },
    {
      "cell_type": "code",
      "execution_count": null,
      "metadata": {
        "id": "r1A_DavcSKgi"
      },
      "outputs": [
        {
          "name": "stdout",
          "output_type": "stream",
          "text": [
            "* \n",
            "* * \n",
            "* * * \n",
            "* * * * \n"
          ]
        }
      ],
      "source": [
        "# Es 6.3: Scrivi la funzione triangolo_rettangolo(n) che stampi a schermo un triangolo di cateti n e n formato utilizzando il carattere *\n",
        "#         Esempio:    3 ->  *           4 ->  *\n",
        "#                           * *               * *\n",
        "#                           * * *             * * *\n",
        "#                                             * * * *\n",
        "def triangolo_rettangolo(n) :\n",
        "    for i in range(1, n + 1) :\n",
        "        print(\"* \" * i)\n",
        "\n",
        "cateto = int(input(\"inserisci la lunghezza dei cateti: \"))\n",
        "if cateto > 0 :\n",
        "    triangolo_rettangolo(cateto)\n",
        "else :\n",
        "    cateto = - cateto # valore assoluto del cateto\n",
        "    triangolo_rettangolo(cateto)\n",
        "\n"
      ]
    },
    {
      "cell_type": "code",
      "execution_count": 9,
      "metadata": {
        "id": "iA9D4X_GSims"
      },
      "outputs": [
        {
          "name": "stdout",
          "output_type": "stream",
          "text": [
            "* * * * * * * * \n",
            "*             * \n",
            "*             * \n",
            "*             * \n",
            "*             * \n",
            "*             * \n",
            "*             * \n",
            "* * * * * * * * \n"
          ]
        }
      ],
      "source": [
        "# Es 6.4: Scrivi la funzione bordo_quadrato(n) che stampi a schermo un quadrato di lato nxn formato utilizzando il carattere * come contorno\n",
        "#         Esempio:    3 ->  * * *       4 ->  * * * *\n",
        "#                           *   *             *     *\n",
        "#                           * * *             *     *\n",
        "#                                             * * * *\n",
        "def bordo_quadrato(n) :\n",
        "    for i in range(n) :\n",
        "        if i == 0 or i == n-1 : # prima e ultima riga\n",
        "            print(\"* \" * n)\n",
        "        else : # righe in mezzo\n",
        "            print(\"* \" + \"  \" * (n-2) + \"* \")\n",
        "\n",
        "lato = int(input(\"inserisci il lato del quadrato: \"))\n",
        "if lato > 0 :\n",
        "    bordo_quadrato(lato)\n",
        "else :\n",
        "    lato = - lato # valore assoluto del lato\n",
        "    bordo_quadrato(lato)"
      ]
    },
    {
      "cell_type": "code",
      "execution_count": 10,
      "metadata": {
        "colab": {
          "base_uri": "https://localhost:8080/"
        },
        "id": "1vlDMqo_4uNc",
        "outputId": "de4cc1b2-7110-4ad6-b86c-d67c5756c074"
      },
      "outputs": [
        {
          "ename": "ValueError",
          "evalue": "invalid literal for int() with base 10: ''",
          "output_type": "error",
          "traceback": [
            "\u001b[0;31m---------------------------------------------------------------------------\u001b[0m",
            "\u001b[0;31mValueError\u001b[0m                                Traceback (most recent call last)",
            "\u001b[1;32m/workspaces/teach-py/esercizi/geometria.ipynb Cella 8\u001b[0m line \u001b[0;36m1\n\u001b[1;32m     <a href='vscode-notebook-cell://codespaces%2Bcuddly-spork-69gj767x5v99259r5/workspaces/teach-py/esercizi/geometria.ipynb#X10sdnNjb2RlLXJlbW90ZQ%3D%3D?line=14'>15</a>\u001b[0m         \u001b[39mprint\u001b[39m(\u001b[39m\"\u001b[39m\u001b[39m| \u001b[39m\u001b[39m\"\u001b[39m \u001b[39m+\u001b[39m \u001b[39m\"\u001b[39m\u001b[39m  \u001b[39m\u001b[39m\"\u001b[39m \u001b[39m*\u001b[39m (n\u001b[39m-\u001b[39m\u001b[39m2\u001b[39m) \u001b[39m+\u001b[39m \u001b[39m\"\u001b[39m\u001b[39m|\u001b[39m\u001b[39m\"\u001b[39m)\n\u001b[1;32m     <a href='vscode-notebook-cell://codespaces%2Bcuddly-spork-69gj767x5v99259r5/workspaces/teach-py/esercizi/geometria.ipynb#X10sdnNjb2RlLXJlbW90ZQ%3D%3D?line=16'>17</a>\u001b[0m     \u001b[39mprint\u001b[39m(\u001b[39m\"\u001b[39m\u001b[39m\\\\\u001b[39;00m\u001b[39m \u001b[39m\u001b[39m\"\u001b[39m \u001b[39m+\u001b[39m \u001b[39m\"\u001b[39m\u001b[39m- \u001b[39m\u001b[39m\"\u001b[39m \u001b[39m*\u001b[39m (n\u001b[39m-\u001b[39m\u001b[39m2\u001b[39m) \u001b[39m+\u001b[39m \u001b[39m\"\u001b[39m\u001b[39m/\u001b[39m\u001b[39m\"\u001b[39m) \u001b[39m# ultima riga\u001b[39;00m\n\u001b[0;32m---> <a href='vscode-notebook-cell://codespaces%2Bcuddly-spork-69gj767x5v99259r5/workspaces/teach-py/esercizi/geometria.ipynb#X10sdnNjb2RlLXJlbW90ZQ%3D%3D?line=18'>19</a>\u001b[0m lato \u001b[39m=\u001b[39m \u001b[39mint\u001b[39;49m(\u001b[39minput\u001b[39;49m(\u001b[39m\"\u001b[39;49m\u001b[39minserisci il lato del quadrato: \u001b[39;49m\u001b[39m\"\u001b[39;49m))\n\u001b[1;32m     <a href='vscode-notebook-cell://codespaces%2Bcuddly-spork-69gj767x5v99259r5/workspaces/teach-py/esercizi/geometria.ipynb#X10sdnNjb2RlLXJlbW90ZQ%3D%3D?line=19'>20</a>\u001b[0m \u001b[39mif\u001b[39;00m lato \u001b[39m>\u001b[39m \u001b[39m0\u001b[39m :\n\u001b[1;32m     <a href='vscode-notebook-cell://codespaces%2Bcuddly-spork-69gj767x5v99259r5/workspaces/teach-py/esercizi/geometria.ipynb#X10sdnNjb2RlLXJlbW90ZQ%3D%3D?line=20'>21</a>\u001b[0m     bordo_quadrato_bello(lato)\n",
            "\u001b[0;31mValueError\u001b[0m: invalid literal for int() with base 10: ''"
          ]
        }
      ],
      "source": [
        "# Es 6.5: Scrivi la funzione bordo_quadrato_bello(n) che stampi a schermo un quadrato di lato nxn formato utilizzando iseguenti caratteri:\n",
        "#         Esempio:    3 ->  / - \\       4 ->  / - - \\\n",
        "#                           |   |             |     |\n",
        "#                           \\ - /             |     |\n",
        "#                                             \\ - - /\n",
        "# Per stampare \\ dovete utilizzare \"\\\\\" ovvero print(\"\\\\\")\n",
        "def bordo_quadrato_bello(n) :\n",
        "    if n < 2 : # se fosse 1 non saprei come fare il quadrato bello...\n",
        "        print(\"il lato del quadrato  deve essere almeno 2!!!\")\n",
        "        return\n",
        "    \n",
        "    print(\"/ \" + \"- \" * (n-2) + \"\\\\\") # prima riga\n",
        "\n",
        "    for i in range(n - 2) : # righe in mezzo\n",
        "        print(\"| \" + \"  \" * (n-2) + \"|\")\n",
        "\n",
        "    print(\"\\\\ \" + \"- \" * (n-2) + \"/\") # ultima riga\n",
        "\n",
        "lato = int(input(\"inserisci il lato del quadrato: \"))\n",
        "if lato > 0 :\n",
        "    bordo_quadrato_bello(lato)\n",
        "else :\n",
        "    lato = - lato # valore assoluto del lato\n",
        "    bordo_quadrato_bello(lato)"
      ]
    },
    {
      "cell_type": "code",
      "execution_count": null,
      "metadata": {
        "id": "2E9Hk9kkv5Mx"
      },
      "outputs": [
        {
          "name": "stdout",
          "output_type": "stream",
          "text": [
            "^\\\n",
            "| \\\n",
            "|  \\\n",
            "|___\\\n"
          ]
        }
      ],
      "source": [
        "# Es 6.6: Scrivi la funzione trianglo_bello(n) che stampi a schermo un triangolo di cateti n e n formato utilizzando iseguenti caratteri:\n",
        "#.   ^\\\n",
        "#    | \\\n",
        "#.   |  \\\n",
        "#.   |___\\\n",
        "def trianglo_bello(n) :\n",
        "    if n < 2 : # stesso problema del quadrato bello\n",
        "        print(\"la lunghezza dei cateti del triangolo deve essere almeno di 1!!!\")\n",
        "        return\n",
        "    \n",
        "    print(\"^\\\\\") # prima riga\n",
        "    \n",
        "    print(\"| \\\\\") # seconda riga (se la mettevo assieme alle righe in mezzo creava problemi con gli spazi)\n",
        "\n",
        "    for i in range(1, n-2) : # righe in mezzo (- la seconda ^)\n",
        "        print(\"|\", \" \" * (i - 1), \"\\\\\")\n",
        "\n",
        "    if n != 2 : # ultima riga (se cateto = 2 )\n",
        "        print(\"|\" + \"_\" * (n - 1) + \"\\\\\")\n",
        "    else : # ultima riga (per cateto != 2)\n",
        "        print(\"|\" + \"_\" * n + \"\\\\\")\n",
        "\n",
        "lato = int(input(\"inserisici la lunghezza dei cateti del triangolo: \"))\n",
        "if lato > 0 :\n",
        "    trianglo_bello(lato)\n",
        "else :\n",
        "    lato = - lato # valore assoluto del lato\n",
        "    trianglo_bello(lato)"
      ]
    }
  ],
  "metadata": {
    "colab": {
      "provenance": []
    },
    "kernelspec": {
      "display_name": "Python 3",
      "name": "python3"
    },
    "language_info": {
      "codemirror_mode": {
        "name": "ipython",
        "version": 3
      },
      "file_extension": ".py",
      "mimetype": "text/x-python",
      "name": "python",
      "nbconvert_exporter": "python",
      "pygments_lexer": "ipython3",
      "version": "3.10.8"
    }
  },
  "nbformat": 4,
  "nbformat_minor": 0
}
