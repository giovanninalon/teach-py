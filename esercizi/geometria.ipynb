{
  "cells": [
    {
      "cell_type": "markdown",
      "metadata": {
        "id": "HB3XbPDcSqe1"
      },
      "source": [
        "# Esercizi Geometrici"
      ]
    },
    {
      "cell_type": "markdown",
      "metadata": {
        "id": "LCcywn6v2KxD"
      },
      "source": [
        "In Python per stampare consecutivamente più parole senza creare una riga per ognuna bisogna usare il seguente codice:\n"
      ]
    },
    {
      "cell_type": "code",
      "execution_count": 1,
      "metadata": {
        "colab": {
          "base_uri": "https://localhost:8080/"
        },
        "id": "PHdyo8E42sza",
        "outputId": "fb51a75d-54ef-48c3-f6ad-342834d2738b"
      },
      "outputs": [
        {
          "name": "stdout",
          "output_type": "stream",
          "text": [
            "Parola 1 Parola 2.\n",
            "Parola 3\n"
          ]
        }
      ],
      "source": [
        "print(\"Parola 1\", end=\" \")\n",
        "print(\"Parola 2\", end=\".\\n\")\n",
        "print(\"Parola 3\")"
      ]
    },
    {
      "cell_type": "code",
      "execution_count": 134,
      "metadata": {
        "colab": {
          "base_uri": "https://localhost:8080/"
        },
        "id": "0U7L9A29RfeT",
        "outputId": "ccdd9b72-55df-486a-a68d-cfe73e90461d"
      },
      "outputs": [
        {
          "name": "stdout",
          "output_type": "stream",
          "text": [
            "* * * * * * \n",
            "* * * * * * \n",
            "* * * * * * \n",
            "* * * * * * \n",
            "* * * * * * \n",
            "* * * * * * \n"
          ]
        }
      ],
      "source": [
        "# Es 6.1: Scrivi la funzione quadrato(n) che stampi a schermo un quadrato di lato nxn formato utilizzando il carattere *\n",
        "#         Esempio:    3 ->  * * *       4 ->  * * * *\n",
        "#                           * * *             * * * *\n",
        "#                           * * *             * * * *\n",
        "#                                             * * * *\n",
        "def quadrato(n) :\n",
        "    for i in range(n):\n",
        "        print(\"* \" * n) #moltiplico string n volte\n",
        "\n",
        "lato = int(input(\"inserisci il lato del quadrato: \"))\n",
        "quadrato(lato)"
      ]
    },
    {
      "cell_type": "code",
      "execution_count": 135,
      "metadata": {
        "id": "gE3RVr9ORuwP"
      },
      "outputs": [
        {
          "name": "stdout",
          "output_type": "stream",
          "text": [
            "* * * * * * * * * * \n",
            "* * * * * * * * * * \n",
            "* * * * * * * * * * \n",
            "* * * * * * * * * * \n",
            "* * * * * * * * * * \n"
          ]
        }
      ],
      "source": [
        "# Es 6.2: Scrivi la funzione rettangolo(n) che stampi a schermo un rettangolo di lato nx2n formato utilizzando il carattere *\n",
        "#         Esempio:    3 ->  * * * * * *         4 ->  * * * * * * * *\n",
        "#                           * * * * * *               * * * * * * * *\n",
        "#                           * * * * * *               * * * * * * * *\n",
        "#                                                     * * * * * * * *\n",
        "def rettangolo(n) :\n",
        "    for i in range(n) :\n",
        "        print(\"* \" * (2 * n))\n",
        "\n",
        "lato = int(input(\"inserisci il lato del rettangolo: \"))\n",
        "rettangolo(lato)"
      ]
    },
    {
      "cell_type": "code",
      "execution_count": 136,
      "metadata": {
        "id": "r1A_DavcSKgi"
      },
      "outputs": [
        {
          "name": "stdout",
          "output_type": "stream",
          "text": [
            "* \n",
            "* * \n",
            "* * * \n",
            "* * * * \n",
            "* * * * * \n",
            "* * * * * * \n"
          ]
        }
      ],
      "source": [
        "# Es 6.3: Scrivi la funzione triangolo_rettangolo(n) che stampi a schermo un triangolo di cateti n e n formato utilizzando il carattere *\n",
        "#         Esempio:    3 ->  *           4 ->  *\n",
        "#                           * *               * *\n",
        "#                           * * *             * * *\n",
        "#                                             * * * *\n",
        "def triangolo_rettangolo(n) :\n",
        "    for i in range(1, n + 1) :\n",
        "        print(\"* \" * i)\n",
        "\n",
        "cateto = int(input(\"inserisci la lunghezza dei cateti: \"))\n",
        "triangolo_rettangolo(cateto)"
      ]
    },
    {
      "cell_type": "code",
      "execution_count": 137,
      "metadata": {
        "id": "iA9D4X_GSims"
      },
      "outputs": [
        {
          "name": "stdout",
          "output_type": "stream",
          "text": [
            "* * * * * * * \n",
            "*           * \n",
            "*           * \n",
            "*           * \n",
            "*           * \n",
            "*           * \n",
            "* * * * * * * \n"
          ]
        }
      ],
      "source": [
        "# Es 6.4: Scrivi la funzione bordo_quadrato(n) che stampi a schermo un quadrato di lato nxn formato utilizzando il carattere * come contorno\n",
        "#         Esempio:    3 ->  * * *       4 ->  * * * *\n",
        "#                           *   *             *     *\n",
        "#                           * * *             *     *\n",
        "#                                             * * * *\n",
        "def bordo_quadrato(n) :\n",
        "    for i in range(n) :\n",
        "        if i == 0 or i == n-1 : # prima e ultima riga\n",
        "            print(\"* \" * n)\n",
        "        else : # righe in mezzo\n",
        "            print(\"* \" + '  ' * (n-2) + \"* \")\n",
        "\n",
        "lato = int(input(\"inserisci il lato del quadrato: \"))\n",
        "bordo_quadrato(lato)\n",
        "\n"
      ]
    },
    {
      "cell_type": "code",
      "execution_count": 138,
      "metadata": {
        "colab": {
          "base_uri": "https://localhost:8080/"
        },
        "id": "1vlDMqo_4uNc",
        "outputId": "de4cc1b2-7110-4ad6-b86c-d67c5756c074"
      },
      "outputs": [
        {
          "name": "stdout",
          "output_type": "stream",
          "text": [
            "/ - - - - - \\\n",
            "|           |\n",
            "|           |\n",
            "|           |\n",
            "|           |\n",
            "|           |\n",
            "\\ - - - - - /\n"
          ]
        }
      ],
      "source": [
        "# Es 6.5: Scrivi la funzione bordo_quadrato_bello(n) che stampi a schermo un quadrato di lato nxn formato utilizzando iseguenti caratteri:\n",
        "#         Esempio:    3 ->  / - \\       4 ->  / - - \\\n",
        "#                           |   |             |     |\n",
        "#                           \\ - /             |     |\n",
        "#                                             \\ - - /\n",
        "# Per stampare \\ dovete utilizzare \"\\\\\" ovvero print(\"\\\\\")\n",
        "def bordo_quadrato_bello(n) :\n",
        "    if n < 2 : # se fosse 1 non saprei come fare il quadrato bello...\n",
        "        print(\"il lato del quadrato  deve essere almeno 2!!!\")\n",
        "        return\n",
        "    \n",
        "    print(\"/ \" + \"- \" * (n-2) + \"\\\\\") # prima riga\n",
        "\n",
        "    for i in range(n - 2) : # righe in mezzo\n",
        "        print(\"| \" + \"  \" * (n-2) + \"|\")\n",
        "\n",
        "    print(\"\\\\ \" + \"- \" * (n-2) + \"/\") # ultima riga\n",
        "\n",
        "lato = int(input(\"inserisci il lato del quadrato: \"))\n",
        "bordo_quadrato_bello(lato)\n",
        "\n"
      ]
    },
    {
      "cell_type": "code",
      "execution_count": 139,
      "metadata": {
        "id": "2E9Hk9kkv5Mx"
      },
      "outputs": [
        {
          "name": "stdout",
          "output_type": "stream",
          "text": [
            "^\\\n",
            "| \\\n",
            "|  \\\n",
            "|   \\\n",
            "|    \\\n",
            "|     \\\n",
            "|______\\\n"
          ]
        }
      ],
      "source": [
        "# Es 6.6: Scrivi la funzione trianglo_bello(n) che stampi a schermo un triangolo di cateti n e n formato utilizzando iseguenti caratteri:\n",
        "#.   ^\\\n",
        "#    | \\\n",
        "#.   |  \\\n",
        "#.   |___\\\n",
        "def trianglo_bello(n) :\n",
        "    if n < 2 : # stesso problema del quadrato bello\n",
        "        print(\"la lunghezza dei cateti del triangolo deve essere almeno di 1!!!\")\n",
        "        return\n",
        "    \n",
        "    print(\"^\\\\\") # prima riga\n",
        "    \n",
        "    print(\"| \\\\\") # seconda riga (se la mettevo assieme alle righe in mezzo creava problemi con gli spazi)\n",
        "\n",
        "    for i in range(1, n-2) : # righe in mezzo (- la seconda ^)\n",
        "        print(\"|\", \" \" * (i - 1), \"\\\\\")\n",
        "\n",
        "    if n != 2 : # ultima riga (se cateto = 2 )\n",
        "        print(\"|\" + \"_\" * (n - 1) + \"\\\\\")\n",
        "    else : # ultima riga (per cateto != 2)\n",
        "        print(\"|\" + \"_\" * n + \"\\\\\")\n",
        "\n",
        "lato = int(input(\"inserisici la lunghezza dei cateti del triangolo: \"))\n",
        "trianglo_bello(lato)"
      ]
    }
  ],
  "metadata": {
    "colab": {
      "provenance": []
    },
    "kernelspec": {
      "display_name": "Python 3",
      "name": "python3"
    },
    "language_info": {
      "codemirror_mode": {
        "name": "ipython",
        "version": 3
      },
      "file_extension": ".py",
      "mimetype": "text/x-python",
      "name": "python",
      "nbconvert_exporter": "python",
      "pygments_lexer": "ipython3",
      "version": "3.10.8"
    }
  },
  "nbformat": 4,
  "nbformat_minor": 0
}
